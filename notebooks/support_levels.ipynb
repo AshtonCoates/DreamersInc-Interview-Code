{
 "cells": [
  {
   "cell_type": "markdown",
   "metadata": {},
   "source": [
    "# Support and Resistance\n",
    "\n",
    "In this challenge, we are only given price action. Since we have no context like the specific currency or time period, there are limited features we can add. Patterns have to be drawn from the price action itself. \n",
    "\n",
    "My first inclination is to draw support and resistance levels "
   ]
  },
  {
   "cell_type": "code",
   "execution_count": null,
   "metadata": {},
   "outputs": [],
   "source": [
    "import pandas as pd"
   ]
  }
 ],
 "metadata": {
  "language_info": {
   "name": "python"
  }
 },
 "nbformat": 4,
 "nbformat_minor": 2
}
